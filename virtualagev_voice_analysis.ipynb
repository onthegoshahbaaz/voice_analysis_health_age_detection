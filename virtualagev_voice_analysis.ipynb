{
  "nbformat": 4,
  "nbformat_minor": 0,
  "metadata": {
    "colab": {
      "provenance": [],
      "authorship_tag": "ABX9TyMUmWqTGcB+asCmbkebSbOI",
      "include_colab_link": true
    },
    "kernelspec": {
      "name": "python3",
      "display_name": "Python 3"
    },
    "language_info": {
      "name": "python"
    }
  },
  "cells": [
    {
      "cell_type": "markdown",
      "metadata": {
        "id": "view-in-github",
        "colab_type": "text"
      },
      "source": [
        "<a href=\"https://colab.research.google.com/github/onthegoshahbaaz/voice_analysis_health_age_detection/blob/main/virtualagev_voice_analysis.ipynb\" target=\"_parent\"><img src=\"https://colab.research.google.com/assets/colab-badge.svg\" alt=\"Open In Colab\"/></a>"
      ]
    },
    {
      "cell_type": "code",
      "execution_count": 1,
      "metadata": {
        "id": "troar0sj7Vpp"
      },
      "outputs": [],
      "source": [
        "import pandas as pd\n",
        "from sklearn.model_selection import train_test_split\n",
        "from sklearn.linear_model import LinearRegression\n",
        "from sklearn.metrics import mean_squared_error"
      ]
    },
    {
      "cell_type": "code",
      "source": [
        "# Load dataset\n",
        "data = pd.read_excel(\"/content/virtual_voice_scores.xlsx\")  # Replace \"virtual_voice_data.csv\" with your dataset file path\n"
      ],
      "metadata": {
        "id": "ZJt2obR97dRf"
      },
      "execution_count": 3,
      "outputs": []
    },
    {
      "cell_type": "code",
      "source": [
        "# Separate features (X) and target variable (y)\n",
        "X = data[['Pitch', 'Jitter', 'Rate_of_Articulation', 'Spectral_Flux', 'Energy', 'Breathiness', 'Roughness', 'Hoarseness']]\n",
        "y = data['Virtual_Voice_Score']"
      ],
      "metadata": {
        "id": "slzO-o1k7dUn"
      },
      "execution_count": 4,
      "outputs": []
    },
    {
      "cell_type": "code",
      "source": [
        "# Split the dataset into train and test sets\n",
        "X_train, X_test, y_train, y_test = train_test_split(X, y, test_size=0.2, random_state=42)"
      ],
      "metadata": {
        "id": "agzyKPcw7dXw"
      },
      "execution_count": 5,
      "outputs": []
    },
    {
      "cell_type": "code",
      "source": [
        "# Train the model\n",
        "model = LinearRegression()\n",
        "model.fit(X_train, y_train)\n",
        "\n",
        "# Predict on the test set\n",
        "y_pred = model.predict(X_test)\n"
      ],
      "metadata": {
        "id": "4U7UFoCb7daY"
      },
      "execution_count": 6,
      "outputs": []
    },
    {
      "cell_type": "code",
      "source": [
        "# Evaluate the model\n",
        "mse = mean_squared_error(y_test, y_pred)\n",
        "print(\"Mean Squared Error:\", mse)\n"
      ],
      "metadata": {
        "colab": {
          "base_uri": "https://localhost:8080/"
        },
        "id": "3kwhk3-F7ddn",
        "outputId": "eab4a77c-5b0d-4128-99d1-85d5835ede59"
      },
      "execution_count": 7,
      "outputs": [
        {
          "output_type": "stream",
          "name": "stdout",
          "text": [
            "Mean Squared Error: 8.925524156209713e-06\n"
          ]
        }
      ]
    },
    {
      "cell_type": "code",
      "source": [
        "# Ask for new input\n",
        "new_input = []\n",
        "print(\"Enter the values for the following parameters:\")\n",
        "for param in X.columns:\n",
        "    val = float(input(f\"{param}: \"))\n",
        "    new_input.append(val)\n",
        "\n",
        "# Make prediction for new input\n",
        "predicted_score = model.predict([new_input])\n",
        "print(\"Predicted Virtual Voice Score:\", predicted_score[0])"
      ],
      "metadata": {
        "colab": {
          "base_uri": "https://localhost:8080/"
        },
        "id": "UP8a1Q2X7dgc",
        "outputId": "76cf4bb8-491d-41c0-b55c-10e6b52f8595"
      },
      "execution_count": 8,
      "outputs": [
        {
          "output_type": "stream",
          "name": "stdout",
          "text": [
            "Enter the values for the following parameters:\n",
            "Pitch: 150\n",
            "Jitter: 0.11\n",
            "Rate_of_Articulation: 150\n",
            "Spectral_Flux: 0.152\n",
            "Energy: 480\n",
            "Breathiness: 0.92\n",
            "Roughness: 0.6\n",
            "Hoarseness: 0.82\n",
            "Predicted Virtual Voice Score: 93.3130159100276\n"
          ]
        },
        {
          "output_type": "stream",
          "name": "stderr",
          "text": [
            "/usr/local/lib/python3.10/dist-packages/sklearn/base.py:465: UserWarning: X does not have valid feature names, but LinearRegression was fitted with feature names\n",
            "  warnings.warn(\n"
          ]
        }
      ]
    },
    {
      "cell_type": "code",
      "source": [
        "# Make prediction for new input\n",
        "predicted_score = model.predict([new_input])[0]\n",
        "print(\"Predicted Virtual Voice Score:\", predicted_score)\n",
        "\n",
        "# Check conditions and print diagnosis\n",
        "if predicted_score >= 121:\n",
        "    print(\"The person is fit.\")\n",
        "elif 55.59 <= predicted_score <= 71.94:\n",
        "    print(\"The person is suffering from Parkinson's Disease.\")\n",
        "elif 71.94 < predicted_score <= 104.64:\n",
        "    print(\"The person is suffering from Respiratory Disorders.\")\n",
        "elif 104.64 < predicted_score <= 121:\n",
        "    print(\"The person is suffering from depression and anxiety.\")\n"
      ],
      "metadata": {
        "colab": {
          "base_uri": "https://localhost:8080/"
        },
        "id": "_gaHlaF37dj8",
        "outputId": "a087f906-3ecd-41be-efd2-cb75dc5ddcc0"
      },
      "execution_count": 9,
      "outputs": [
        {
          "output_type": "stream",
          "name": "stdout",
          "text": [
            "Predicted Virtual Voice Score: 93.3130159100276\n",
            "The person is suffering from Respiratory Disorders.\n"
          ]
        },
        {
          "output_type": "stream",
          "name": "stderr",
          "text": [
            "/usr/local/lib/python3.10/dist-packages/sklearn/base.py:465: UserWarning: X does not have valid feature names, but LinearRegression was fitted with feature names\n",
            "  warnings.warn(\n"
          ]
        }
      ]
    }
  ]
}